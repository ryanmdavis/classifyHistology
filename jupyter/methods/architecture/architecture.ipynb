{
 "cells": [
  {
   "cell_type": "markdown",
   "metadata": {},
   "source": [
    "# Neural Network Archetecture\n",
    "[back to main](../../main.ipynb)\n",
    "\n",
    "![architecture](architecture.png)\n",
    "\n",
    "## Net1\n",
    "Net1 is shown in Figure a. Convolutional layers are represented by blue rectangles, and the text therein describes the length, width and depth of the layer in terms of number of neurons. All convolutional layers used a 3-by-3 receptive field, stride of 1 pixel, and zero padding of 1 pixel, resulting in an equal length and width of the convolutional layers and its input tensor. The three convolutional layers were followed by two fully-connected layers, with the final fully connected layer outputing two logits corresponding to the two tissue classes, \"normal\" and \"suspicious\". The activation functions were rectified linear units (ReLU). The objective function was cross-entropy, and logits were normalizeded with a softmax function. The biases and weights were optimized with the adaptive moments (Adam) optimizer with default values for beta_1, beta_2, and epsilon."
   ]
  }
 ],
 "metadata": {
  "kernelspec": {
   "display_name": "Python 3",
   "language": "python",
   "name": "python3"
  },
  "language_info": {
   "codemirror_mode": {
    "name": "ipython",
    "version": 3
   },
   "file_extension": ".py",
   "mimetype": "text/x-python",
   "name": "python",
   "nbconvert_exporter": "python",
   "pygments_lexer": "ipython3",
   "version": "3.6.7"
  }
 },
 "nbformat": 4,
 "nbformat_minor": 2
}
