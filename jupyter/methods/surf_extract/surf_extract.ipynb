{
 "cells": [
  {
   "cell_type": "markdown",
   "metadata": {},
   "source": [
    "# Tissue Surface Identification and Data Augmentation\n",
    "![Surface Identification](surf_algorithm.jpg)"
   ]
  },
  {
   "cell_type": "markdown",
   "metadata": {},
   "source": [
    "The above images outline the operation of the surface deliniation algorithm used as part of data augmentation. At a high level, a raw H&E image (Figure a) is input to the algorithm and the output (Figure f, green line) is a vector of row and column pixels delineating the tissue surface. The tissue surface location generated from this algorithm is then fed into data augmentation algorithm, which extracts rectangular images of [cancer](../../results/tumor_images/representative_cancer_images.ipynb) or [normal](../../results/normal_images/representative_normal_images.ipynb) tissue oriented normal to the tissue surface. Those extracted images are then used to [train](../../results/training/training.ipynb) the [neural network](../architecture/architecture.ipynb)."
   ]
  },
  {
   "cell_type": "code",
   "execution_count": null,
   "metadata": {},
   "outputs": [],
   "source": []
  }
 ],
 "metadata": {
  "kernelspec": {
   "display_name": "Python 3",
   "language": "python",
   "name": "python3"
  },
  "language_info": {
   "codemirror_mode": {
    "name": "ipython",
    "version": 3
   },
   "file_extension": ".py",
   "mimetype": "text/x-python",
   "name": "python",
   "nbconvert_exporter": "python",
   "pygments_lexer": "ipython3",
   "version": "3.6.7"
  }
 },
 "nbformat": 4,
 "nbformat_minor": 2
}
