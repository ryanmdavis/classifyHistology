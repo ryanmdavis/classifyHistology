{
 "cells": [
  {
   "cell_type": "markdown",
   "metadata": {},
   "source": [
    "# Automatic Annotation of Histologicial Images of Bladder Cancer Using Convolutional Neural Networks\n",
    "## Ryan M. Davis\n",
    "\n",
    "## Introduction\n",
    "Non-muscle invasive bladder cancer (NMIBC) has the highest recurrance rate of all cancers and there is a pressing unmet need for technologies that prolong time to recurrence. NMIBC is commonly treated with transurethral resection of bladder tumor (TURBT), a procedure where a urologist uses a cystoscope to guide resection of the tumor with foreceps (Figure 1x). A major limitation of the TURBT proceedure is that some regions of cancer tissue are invisible to the physician on the cystoscope, and those regions are not resected and are left behind after surgery. These residual cancer cells will then continue to grow, leading to recurrence. Strikingly, the median recurrance time for NMIBC treated with TURBT is only 1-2 years, requiring multiple TURBT procedures per patient throughout the course of the patient's disease. Patients can undergo six or more TURBT proceedures during their lifetime, which is not only stressful and unpleasent to the patient, but is also expensive to the healthcare system as a whole. There is therefore an unmet need for technologies that detect residual cancer cells during or after TURBT procedures, so that urologists can provide more complete resection during an initial or follow-up TURBT procedure.\n",
    "\n",
    "There has been considerable recent progress...\n",
    "\n",
    "[Davis RM, Gambhir SS, et. al., 2018. ACS Nano](https://pubs.acs.org/doi/10.1021/acsnano.8b03217)\n",
    "\n",
    "Although moleculare imaging (MI) is a powerful approach to improve TURBT of bladder cancer, one limitation is that MI requires administration of nanoparticle contrast agents. Nanoparticle contrast agents are notoriously difficult to translate to the clinic due to toxicological and regulatory challenges. XX!!XX Here introduce looking at H&E images for residual cancer, argue that more complete and efficient step here could improve outcomes XX!!XX Here, we us an alternative approach to identify patients who are likely to recur after TURBT by using convolutional neural networks to identify microscopic tumors in H&E images of tissue margins resected during TURBT (Figure xxx). The algorithm takes as input a series of H&E images obtained from presumably healthy tissue resected from the margin of NMIBC. The algorithm then identifies the luminal surface of the bladder tissue, which is the location of NMIBC. The algorithm then walks along the surface of the tissue and uses a convolutional neural network to classify the \n"
   ]
  },
  {
   "cell_type": "markdown",
   "metadata": {},
   "source": []
  }
 ],
 "metadata": {
  "kernelspec": {
   "display_name": "Python 3",
   "language": "python",
   "name": "python3"
  },
  "language_info": {
   "codemirror_mode": {
    "name": "ipython",
    "version": 3
   },
   "file_extension": ".py",
   "mimetype": "text/x-python",
   "name": "python",
   "nbconvert_exporter": "python",
   "pygments_lexer": "ipython3",
   "version": "3.6.7"
  }
 },
 "nbformat": 4,
 "nbformat_minor": 2
}
