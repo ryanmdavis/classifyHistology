{
 "cells": [
  {
   "cell_type": "markdown",
   "metadata": {},
   "source": [
    "# A Convolutional Neural Network for Facilitating Pathological Risk Assessment of Non-muscle Invasive Bladder Cancer\n",
    "\n",
    "## Ryan M. Davis\n",
    "\n",
    "![Annotated Image](Annotated_Image_only.png)\n",
    "**Figure 1: A H&E image of putatively normal bladder tissue annotated with the algorithm developed herein.** *The annotation appears as the blue and green line slightly above the tissue surface. As can be seen, the algorithm  identified a large section of dysplasia and labeled it green, flagging the region for pathologist review. This algorithm will enable more sensitive identification of dysplasia and malignancy in the resection margins of non-muscle invasive bladder cancer.*\n",
    "\n",
    "## Introduction\n",
    "Non-muscle invasive bladder cancer (NMIBC) has the highest recurrence rate of all cancers and there is a pressing unmet need for technologies that can prevent or prolong time to recurrence. NMIBC is commonly treated with transurethral resection of bladder tumor (TURBT), a procedure where a urologist uses a cystoscope to guide resection of the tumor with foreceps (Figure 1). A major limitation of the TURBT procedure is that some regions of cancer tissue are invisible to the physician on the cystoscope, and those regions are not resected and are left behind after surgery. These residual cancer cells will then continue to proliferate, leading to recurrence. Strikingly, the median recurrence time for NMIBC treated with TURBT is only 1-2 years, which results in multiple TURBT procedures per patient throughout the course of the patient's disease. Patients can undergo six or more TURBT procedures during their lifetime, which is not only stressful and unpleasant to the patient, but is also expensive to the healthcare system as a whole. There is therefore an critical need for technologies that detect residual cancer cells during or after TURBT procedures, so that urologists can provide more complete resection during the initial or follow-up procedure.\n",
    "\n",
    "There has been considerable progress in developing advanced cystoscopy technologies that allow more accurate localization of tumors and more complete resection of tumors during TURBT. Advances include anti-CD47-conjugated quantum dots which bind specifically to lumenal tumor CD47 (Pan Y, et. al. Sci Trans Med. 2014, 6, 260ra148), photodynamic diagnosis based on imaging of intravesical hexaminolevulinate, confocal endomicroscopy for point evaluation of tissue tumor status (Liu JJ, J Urol. 2012 Aug;188(2):361-8; Chang TC Bladder Cancer 2017, 3, 149–159), and multiplexed molecular imaging of CD47, CA9, and urothelial permeability with surface-enhanced Raman scattering nanoparticles\n",
    "[Davis RM, Gambhir SS, et. al., 2018. ACS Nano](https://pubs.acs.org/doi/10.1021/acsnano.8b03217). These techniques combined with traditional cystoscopy show promise for providing more accurate localization of bladder tumors during TURBT, which may result in more complete resection and prolonged time to recurrence.\n",
    "\n",
    "Although advanced imaging technologies hold great promise in revolutionizing the way we treat NMIBC, those techniques are not currently practical for a vast majority of urology practices. An alternative approach would be to automate the current histological and pathological workflow performed on tissue resected during TURBT. Automation would allow physicians to evaluate substantially more tissue sections, thereby increasing the probability that urologists would detect residual cancer in the margins of resected bladder tissue. Because residual bladder cancer can be present as microscopic foci, we hypothesize that evaluation of more tissue sections will decrease the likelihood of missing residual bladder tumor which would otherwise be missed with the standard pathology workflow. Patients with residual tumor could undergo a repeat procedure to more completely resect the tissue or could be monitored more closely for recurrence, thereby potentially improving patient outcomes.\n",
    "\n",
    "Here, we illustrate a proof-of-concept approach to automate evaluation of H&E-stained images of tissue resected during TURBT procedures, with the goal of identifying residual tumor likely to lead to recurrence. This approach uses a combination of recently-developed technologies including automated whole-slide imaging and convolutional neural networks to identify microscopic dysplasia in H&E images of tissue margins resected during TURBT (Figure 1). The algorithm takes as input a series of H&E images obtained from presumably healthy tissue resected from the margin of NMIBC. The algorithm then identifies the lumenal surface of the bladder tissue, which is potential location of NMIBC, and scans the surface using a convolutional neural network trained to identify suspicious regions of the urothelium. As shown in the Figure 1, the algorithm automatically annotates the surface of the tissue with a line, identifying suspicious regions in red. The suspicious regions can then be evaluated by a pathologist who could determine if residual cancer is present or not. In summary, we envision that this technology could be used to identify patients whose bladder tumors are more likely to recur after TURBT.\n",
    "\n",
    "### Methods\n",
    "\n",
    "[Neural Network Architecture](methods/architecture/architecture.ipynb)\n",
    "\n",
    "[Surface Deliniation Algorithm](methods/surf_extract/surf_extract.ipynb)\n",
    "\n",
    "### Results\n",
    "\n",
    "[Representative Bladder Tumor Images](results/tumor_images/representative_cancer_images.ipynb)\n",
    "\n",
    "[Representative Normal Bladder Images](results/normal_images/representative_normal_images.ipynb)\n",
    "\n",
    "[Neural Network Training](results/training/training.ipynb)\n",
    "\n",
    "[More Examples of Tissue Surface Annotation](results/more_examples/more_examples.ipynb)\n"
   ]
  },
  {
   "cell_type": "code",
   "execution_count": null,
   "metadata": {},
   "outputs": [],
   "source": []
  }
 ],
 "metadata": {
  "kernelspec": {
   "display_name": "Python 3",
   "language": "python",
   "name": "python3"
  },
  "language_info": {
   "codemirror_mode": {
    "name": "ipython",
    "version": 3
   },
   "file_extension": ".py",
   "mimetype": "text/x-python",
   "name": "python",
   "nbconvert_exporter": "python",
   "pygments_lexer": "ipython3",
   "version": "3.6.7"
  }
 },
 "nbformat": 4,
 "nbformat_minor": 2
}
