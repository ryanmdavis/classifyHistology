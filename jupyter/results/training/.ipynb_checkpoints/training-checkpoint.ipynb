{
 "cells": [
  {
   "cell_type": "markdown",
   "metadata": {},
   "source": [
    "# Network Performance on Test Dataset\n",
    "\n",
    "![training data](training.png)\n",
    "\n"
   ]
  },
  {
   "cell_type": "code",
   "execution_count": null,
   "metadata": {},
   "outputs": [],
   "source": []
  },
  {
   "cell_type": "raw",
   "metadata": {},
   "source": [
    "## Method and Results\n",
    "[Net1](../../methods/architecture/architecture.ipynb) was trained with a variable learning rate of 0.001 until iteration 5, 0.0001 until iteration 50, and 0.00005 for subsequent iterations. Dropout regularization was used for all fully connected and convolution layers except for the output fully connected layer. The probability of keeping a neuron was set at 1, 0.6, or 0.4. The resulting training dataset classification accuracy (Figure a) and loss (Figure b) and test dataset classification accuracy (Figure c) and loss (Figure d) are shown as a function of training iteration and neuron keep probability, P, in the figure.\n",
    "\n",
    "As can be seen in Figure a, a dropout keep probability of 1 or 0.6 allowed the network to correctly classify the training dataset. Similarly, the loss for keep probabilities of 1 or 0.6 resulted in a loss of nearly zero by epoch 120 (Figure b). In terms of the test datasets, a dropout keep probability of 0.6 resulted in the best test accuracy (Figure c) because the regularization prevented overfitting while still allowing the network to learn. Figure 4d shows that the test dataset loss for a keep probability of 1 increases starting around epoch 15, clearly signifying overfitting. The loss for keep probability of 0.6 or 0.4 had stabilized by the final iteration, showing that these networks were not overfitting the data. The network regularized by a dropout keep probability of 0.6 was used in further analysis to annotate images."
   ]
  }
 ],
 "metadata": {
  "kernelspec": {
   "display_name": "Python 3",
   "language": "python",
   "name": "python3"
  },
  "language_info": {
   "codemirror_mode": {
    "name": "ipython",
    "version": 3
   },
   "file_extension": ".py",
   "mimetype": "text/x-python",
   "name": "python",
   "nbconvert_exporter": "python",
   "pygments_lexer": "ipython3",
   "version": "3.6.7"
  }
 },
 "nbformat": 4,
 "nbformat_minor": 2
}
