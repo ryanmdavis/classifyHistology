{
 "cells": [
  {
   "cell_type": "markdown",
   "metadata": {},
   "source": [
    "# Annotated Images\n",
    "## Cancer Only\n",
    "![Image 1](patient180-tumor1-tr-3.png)\n",
    "![Image 2](Patient18-tumor5-bl-1-.png)\n",
    "\n",
    "## Normal Only\n",
    "![Image 3](Patient18-normal3-tr-4-.png)\n",
    "![Image 4](Patient101-normal-1-.png)\n",
    "\n",
    "The above images are H&E images annotated with the algorithm developed herein. The images of cancer (top two) and normal (bottom two) are also examples of images used to generate the training and test image datasets ([cancer](../../results/tumor_images/representative_cancer_images.ipynb) and [normal](../../results/normal_images/representative_normal_images.ipynb).\n",
    "\n",
    "[back to main](../../main.ipynb)"
   ]
  },
  {
   "cell_type": "code",
   "execution_count": null,
   "metadata": {},
   "outputs": [],
   "source": []
  }
 ],
 "metadata": {
  "kernelspec": {
   "display_name": "Python 3",
   "language": "python",
   "name": "python3"
  },
  "language_info": {
   "codemirror_mode": {
    "name": "ipython",
    "version": 3
   },
   "file_extension": ".py",
   "mimetype": "text/x-python",
   "name": "python",
   "nbconvert_exporter": "python",
   "pygments_lexer": "ipython3",
   "version": "3.6.7"
  }
 },
 "nbformat": 4,
 "nbformat_minor": 2
}
